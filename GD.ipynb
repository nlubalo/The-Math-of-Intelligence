{
 "cells": [
  {
   "cell_type": "code",
   "execution_count": 189,
   "metadata": {},
   "outputs": [
    {
     "data": {
      "text/html": [
       "<div>\n",
       "<style>\n",
       "    .dataframe thead tr:only-child th {\n",
       "        text-align: right;\n",
       "    }\n",
       "\n",
       "    .dataframe thead th {\n",
       "        text-align: left;\n",
       "    }\n",
       "\n",
       "    .dataframe tbody tr th {\n",
       "        vertical-align: top;\n",
       "    }\n",
       "</style>\n",
       "<table border=\"1\" class=\"dataframe\">\n",
       "  <thead>\n",
       "    <tr style=\"text-align: right;\">\n",
       "      <th></th>\n",
       "      <th>x</th>\n",
       "      <th>y</th>\n",
       "    </tr>\n",
       "  </thead>\n",
       "  <tbody>\n",
       "    <tr>\n",
       "      <th>0</th>\n",
       "      <td>24.0</td>\n",
       "      <td>21.549452</td>\n",
       "    </tr>\n",
       "    <tr>\n",
       "      <th>1</th>\n",
       "      <td>50.0</td>\n",
       "      <td>47.464463</td>\n",
       "    </tr>\n",
       "    <tr>\n",
       "      <th>2</th>\n",
       "      <td>15.0</td>\n",
       "      <td>17.218656</td>\n",
       "    </tr>\n",
       "    <tr>\n",
       "      <th>3</th>\n",
       "      <td>38.0</td>\n",
       "      <td>36.586398</td>\n",
       "    </tr>\n",
       "    <tr>\n",
       "      <th>4</th>\n",
       "      <td>87.0</td>\n",
       "      <td>87.288984</td>\n",
       "    </tr>\n",
       "  </tbody>\n",
       "</table>\n",
       "</div>"
      ],
      "text/plain": [
       "      x          y\n",
       "0  24.0  21.549452\n",
       "1  50.0  47.464463\n",
       "2  15.0  17.218656\n",
       "3  38.0  36.586398\n",
       "4  87.0  87.288984"
      ]
     },
     "execution_count": 189,
     "metadata": {},
     "output_type": "execute_result"
    }
   ],
   "source": [
    "import pandas as pd\n",
    "import matplotlib.pyplot as plt\n",
    "%matplotlib inline\n",
    "\n",
    "data_df=pd.read_csv('train.csv')\n",
    "data_df=data_df.dropna()\n",
    "data_df.head()"
   ]
  },
  {
   "cell_type": "code",
   "execution_count": 190,
   "metadata": {},
   "outputs": [
    {
     "data": {
      "image/png": "[encoded data removed]",
      "text/plain": [
       "<matplotlib.figure.Figure at 0x7fd51f11ac88>"
      ]
     },
     "metadata": {},
     "output_type": "display_data"
    }
   ],
   "source": [
    "#scatter plot\n",
    "plt.scatter(x=data_df.iloc[:, 0], y=data_df.iloc[:, 1])\n",
    "plt.ylabel(\"Y\")\n",
    "plt.xlabel(\"X\")\n",
    "plt.show()"
   ]
  },
  {
   "cell_type": "markdown",
   "metadata": {},
   "source": [
    "y=mx+b\n",
    "\n",
    "error is given by the guessed or approximated values of y minus initial values of y, ie the target(y column in this dataset) squared. ie\n",
    "\n",
    "((mx+b)-y)**2\n",
    "\n",
    "where mx+b is the approximated y\n",
    " \n",
    " The function below calculates this error"
   ]
  },
  {
   "cell_type": "code",
   "execution_count": 191,
   "metadata": {},
   "outputs": [],
   "source": [
    "def Error(m,b,data):\n",
    "    #y=mx+b\n",
    "    error=0.0\n",
    "    for i in range(len(data)):\n",
    "        x=data.iloc[i,0]\n",
    "        y=data.iloc[i,1]\n",
    "        \n",
    "        # initial value of y\n",
    "        initial_y=y\n",
    "        \n",
    "        #approx y\n",
    "        #mx+b\n",
    "        approx_y=m*x+b\n",
    "        \n",
    "        #Squared error\n",
    "        currentSquareError=(initial_y - approx_y)**2\n",
    "       \n",
    "        error += currentSquareError\n",
    "        \n",
    "    return error/len(data)\n",
    "        \n",
    "    \n",
    "        \n",
    "        \n",
    "        \n",
    "        \n",
    "    "
   ]
  },
  {
   "cell_type": "markdown",
   "metadata": {},
   "source": [
    "Fitting a line y=3x+4"
   ]
  },
  {
   "cell_type": "code",
   "execution_count": 192,
   "metadata": {},
   "outputs": [
    {
     "name": "stdout",
     "output_type": "stream",
     "text": [
      "For the fitting line: y = 3x + 4\n",
      "Error: 14191.78\n"
     ]
    }
   ],
   "source": [
    "m=3\n",
    "b=4\n",
    "error=Error(3,4,data_df)\n",
    "\n",
    "print('For the fitting line: y = %sx + %s\\nError: %.2f' %(m,b,error))"
   ]
  },
  {
   "cell_type": "markdown",
   "metadata": {},
   "source": [
    "Plotting the above line on our scatter plot.\n",
    "\n",
    "Our error metric is a measure of closeness \n",
    "    If the line doesn't fit at all => Error will be BIG\n",
    "    If the line fits well => Error will be SMALL\n",
    "Our line below does not fit so well meanng the error is big, so we need to reduce it. \n"
   ]
  },
  {
   "cell_type": "code",
   "execution_count": 193,
   "metadata": {},
   "outputs": [
    {
     "data": {
      "image/png": "[encoded data removed]",
      "text/plain": [
       "<matplotlib.figure.Figure at 0x7fd5140e5d68>"
      ]
     },
     "metadata": {},
     "output_type": "display_data"
    }
   ],
   "source": [
    "fig = plt.figure(figsize=(6,5))\n",
    "ax = fig.add_subplot(111)\n",
    "ax.scatter(x=data_df.iloc[:,0],y=data_df.iloc[:,1],label='Data')\n",
    "plt.plot(data_df.iloc[:,0], m*data_df.iloc[:,0] + b,color='red',label='Fitting Line')\n",
    "ax.set_xlabel('X')\n",
    "ax.set_ylabel('Y')\n",
    "ax.legend(loc='best')\n",
    "\n",
    "plt.show()"
   ]
  },
  {
   "cell_type": "code",
   "execution_count": null,
   "metadata": {
    "collapsed": true
   },
   "outputs": [],
   "source": []
  },
  {
   "cell_type": "markdown",
   "metadata": {},
   "source": [
    "\n",
    "From the initial line we will update the parameters to make the error smaller. The parameters to be updated are m and b\n",
    "\n",
    "To do this, we Compute the partial derivatives respect to 'm' and 'b'. Get the direction that decreases the gradient (towards zero error) and update 'm' and 'b' accordingly\n",
    "What we need to compute the Gradient Descent:\n",
    "The current 'm' and 'b' to know which is our current fitting line\n",
    "The real data, that corresponds to 'target' on the equation of the image\n",
    "What will do:\n",
    "Partial derivatives respect to 'm' and 'b'\n",
    "What we will return:\n",
    "The new 'better' updated 'm' and 'b'"
   ]
  },
  {
   "cell_type": "code",
   "execution_count": 199,
   "metadata": {},
   "outputs": [],
   "source": [
    "def gradient_descent(m,b,data,learning_rate):\n",
    "    \n",
    "    N = len(data_df)\n",
    " \n",
    "    m_found = 0\n",
    "    b_found = 0\n",
    "\n",
    "    for i in range(0,len(data_df)):\n",
    "\n",
    "        #Get current pair (x,y)\n",
    "        x = data_df.iloc[i,0]\n",
    "        y = data_df.iloc[i,1]\n",
    "\n",
    "        #Partial derivative respect 'm'  \n",
    "        #2*x*error\n",
    "        dm = -((2/N)* x* (y - (m*x + b)))\n",
    "        \n",
    "        \n",
    "        #Partial derivative respect 'b'\n",
    "        #2*error\n",
    "        db = - ((2/N) * (y - (m*x + b)))\n",
    "    \n",
    "        #Update gradient\n",
    "        m_found = m + dm\n",
    "        b_found= b + db\n",
    "    \n",
    "    #Set the new 'better' updated 'm' and 'b'\n",
    "    m_updated = m - learning_rate*m_found\n",
    "    b_updated = b - learning_rate*b_found\n",
    "    \n",
    "    \n",
    "    return m_updated,b_updated"
   ]
  },
  {
   "cell_type": "code",
   "execution_count": 231,
   "metadata": {},
   "outputs": [],
   "source": [
    "def gradient_descent_step(starting_b, starting_m ,data,learning_rate, steps):\n",
    "    b = starting_b\n",
    "    m = starting_m\n",
    "    display_freq = steps//10\n",
    "    for i in range(steps):\n",
    "        b, m = gradient_descent(b, m, data, learning_rate)\n",
    "        if(i % display_freq == 0):\n",
    "            error = Error(m,b,data)\n",
    "            print('At step %d - Line: y = %.4fx + %.4f - Error: %.4f' %(i+1,m,b,error))\n",
    "    \n",
    "    \n",
    "    print('\\nBest  line: y = %.4fx + %.4f - Error: %.4f' %(m,b,error))\n",
    "    return b, m"
   ]
  },
  {
   "cell_type": "code",
   "execution_count": 232,
   "metadata": {},
   "outputs": [
    {
     "name": "stdout",
     "output_type": "stream",
     "text": [
      "At step 1 - Line: y = 0.0136x + 1.3180 - Error: 3121.9923\n",
      "At step 2 - Line: y = 0.0082x + 0.7958 - Error: 3207.4268\n",
      "At step 3 - Line: y = 0.0103x + 1.0027 - Error: 3173.4212\n",
      "At step 4 - Line: y = 0.0095x + 0.9207 - Error: 3186.8701\n",
      "At step 5 - Line: y = 0.0098x + 0.9532 - Error: 3181.5377\n",
      "At step 6 - Line: y = 0.0097x + 0.9403 - Error: 3183.6499\n",
      "At step 7 - Line: y = 0.0097x + 0.9454 - Error: 3182.8129\n",
      "At step 8 - Line: y = 0.0097x + 0.9434 - Error: 3183.1445\n",
      "At step 9 - Line: y = 0.0097x + 0.9442 - Error: 3183.0131\n",
      "At step 10 - Line: y = 0.0097x + 0.9439 - Error: 3183.0652\n",
      "\n",
      "Best  line: y = 0.0097x + 0.9439 - Error: 3183.0652\n"
     ]
    }
   ],
   "source": [
    "m_best,b_best = gradient_descent_step(0,0,data_df,0.05,10)"
   ]
  },
  {
   "cell_type": "code",
   "execution_count": 233,
   "metadata": {},
   "outputs": [
    {
     "data": {
      "image/png": "[encoded data removed]",
      "text/plain": [
       "<matplotlib.figure.Figure at 0x7fd513da7908>"
      ]
     },
     "metadata": {},
     "output_type": "display_data"
    }
   ],
   "source": [
    "#plot the best line\n",
    "m=m_best\n",
    "b=b_best\n",
    "x = data_df.iloc[:,0]\n",
    "\n",
    "fig = plt.figure(figsize=(10,5))\n",
    "ax = fig.add_subplot(111)\n",
    "ax.scatter(x=x,y=data_df.iloc[:,1],label='Data')\n",
    "plt.plot(x, m*x + b,color='red',label='BEST Fitting Line')\n",
    "ax.set_xlabel('ADR')\n",
    "ax.set_ylabel('Rating')\n",
    "ax.legend(loc='best')\n",
    "\n",
    "plt.show()"
   ]
  }
 ],
 "metadata": {
  "kernelspec": {
   "display_name": "Python 3",
   "language": "python",
   "name": "python3"
  },
  "language_info": {
   "codemirror_mode": {
    "name": "ipython",
    "version": 3
   },
   "file_extension": ".py",
   "mimetype": "text/x-python",
   "name": "python",
   "nbconvert_exporter": "python",
   "pygments_lexer": "ipython3",
   "version": "3.6.3"
  }
 },
 "nbformat": 4,
 "nbformat_minor": 2
}
